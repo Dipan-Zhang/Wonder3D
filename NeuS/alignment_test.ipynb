{
 "cells": [
  {
   "cell_type": "markdown",
   "metadata": {},
   "source": [
    "#### Door Keeper"
   ]
  },
  {
   "cell_type": "code",
   "execution_count": 1,
   "metadata": {},
   "outputs": [
    {
     "name": "stdout",
     "output_type": "stream",
     "text": [
      "Jupyter environment detected. Enabling Open3D WebVisualizer.\n",
      "[Open3D INFO] WebRTC GUI backend enabled.\n",
      "[Open3D INFO] WebRTCWindowSystem: HTTP handshake server disabled.\n"
     ]
    }
   ],
   "source": [
    "import torch\n",
    "import numpy as np\n",
    "import open3d as o3d\n",
    "import torch.nn.functional as F\n",
    "import torch.nn as nn\n",
    "import math\n",
    "import os\n",
    "import cv2\n",
    "import matplotlib.pylab as plt\n",
    "\n",
    "\n",
    "from pyhocon import ConfigFactory\n",
    "\n",
    "from models.fields import FeatureField, SDFNetwork\n",
    "from reconstruct.optimizer import Optimizer\n",
    "from reconstruct.utils import color_table, set_view, get_configs\n",
    "\n",
    "\n",
    "device = torch.device(\"cuda\" if torch.cuda.is_available() else \"cpu\")\n",
    "\n",
    "def load_checkpoint(checkpoint_fname):\n",
    "    # read network config\n",
    "    conf_path = './confs/wmask.conf'\n",
    "    f = open(conf_path)\n",
    "    conf_text = f.read()\n",
    "    conf_text = conf_text.replace('CASE_NAME', 'owl') #TODO case name as input\n",
    "    f.close()\n",
    "    conf = ConfigFactory.parse_string(conf_text)\n",
    "\n",
    "    # load feature field\n",
    "    checkpoint = torch.load(os.path.join(checkpoint_fname), map_location='cuda')\n",
    "    sdf_network = SDFNetwork(**conf['model.sdf_network']).to(device)\n",
    "    # feature_network = FeatureField(**conf['model.feature_field']).to('cuda')\n",
    "    # self.nerf_outside.load_state_dict(checkpoint['nerf'])\n",
    "    sdf_network.load_state_dict(checkpoint['sdf_network_fine'])\n",
    "    # self.deviation_network.load_state_dict(checkpoint['variance_network_fine'])\n",
    "    # self.color_network.load_state_dict(checkpoint['color_network_fine'])\n",
    "    # feature_network.load_state_dict(checkpoint['feature_network'])\n",
    "    # self.optimizer_geometry.load_state_dict(checkpoint['optimizer-geometry'])\n",
    "    # self.optimizer_feature.load_state_dict(checkpoint['optimizer-feature'])\n",
    "\n",
    "    # iter_step = checkpoint['iter_step']\n",
    "    print(f\"loaded checkpoint from {checkpoint_fname}\")\n",
    "    return sdf_network\n",
    "\n",
    "# helper function for pointcloud\n",
    "def visualize_points(points, colors=None):\n",
    "    pcd = o3d.geometry.PointCloud()\n",
    "    pcd.points = o3d.utility.Vector3dVector(points)\n",
    "    if colors is not None:\n",
    "        pcd.colors = o3d.utility.Vector3dVector(colors)\n",
    "    return pcd\n",
    "\n",
    "def visualize_point_cloud(pcd):\n",
    "    # Visualize the point cloud\n",
    "    o3d.visualization.draw_geometries([pcd])\n",
    "\n",
    "class BackprojectDepth(nn.Module):\n",
    "    \"\"\"Layer to transform a depth image into a point cloud\"\"\"\n",
    "\n",
    "    def __init__(self, height, width):\n",
    "        super(BackprojectDepth, self).__init__()\n",
    "\n",
    "        # self.batch_size = batch_size\n",
    "        self.height = height\n",
    "        self.width = width\n",
    "\n",
    "        meshgrid = np.meshgrid(range(self.width), range(self.height), indexing=\"xy\")\n",
    "        self.id_coords = np.stack(meshgrid, axis=0).astype(np.float32)\n",
    "        self.id_coords = nn.Parameter(\n",
    "            torch.from_numpy(self.id_coords), requires_grad=False\n",
    "        )\n",
    "        self.pix_coords = torch.unsqueeze(\n",
    "            torch.stack([self.id_coords[0].view(-1), self.id_coords[1].view(-1)], 0), 0\n",
    "        )\n",
    "\n",
    "    def forward(self, depth, K):\n",
    "        if isinstance(K, np.ndarray):\n",
    "            assert K.shape == (3, 3)\n",
    "            K = torch.from_numpy(K).float().to(depth.device)[None]\n",
    "\n",
    "        batch_size = depth.shape[0]\n",
    "        ones = torch.ones(batch_size, 1, self.height * self.width).to(depth.device)\n",
    "        inv_K = torch.inverse(K).to(depth.device)  # [B, 3, 3]\n",
    "\n",
    "        pix_coords = self.pix_coords.clone().to(depth.device)\n",
    "        pix_coords = pix_coords.repeat(batch_size, 1, 1)\n",
    "        pix_coords = torch.cat([pix_coords, ones], 1)  # [B, 3, H*W]\n",
    "\n",
    "        cam_points = torch.matmul(inv_K, pix_coords)  # [B, 3, 3] @ [B, 3, H*W]\n",
    "        cam_points = (\n",
    "            depth.view(batch_size, 1, -1) * cam_points\n",
    "        )  # [B, 1, H*W] * [B, 3, H*W]\n",
    "        return cam_points\n",
    "\n",
    "def backproject(depth, intrinsics, instance_mask, NOCS_convention=True):\n",
    "    intrinsics_inv = np.linalg.inv(intrinsics)\n",
    "    # image_shape = depth.shape\n",
    "    # width = image_shape[1]\n",
    "    # height = image_shape[0]\n",
    "\n",
    "    # x = np.arange(width)\n",
    "    # y = np.arange(height)\n",
    "\n",
    "    # non_zero_mask = np.logical_and(depth > 0, depth < 5000)\n",
    "    non_zero_mask = depth > 0\n",
    "    final_instance_mask = np.logical_and(instance_mask, non_zero_mask)\n",
    "\n",
    "    idxs = np.where(final_instance_mask)\n",
    "    grid = np.array([idxs[1], idxs[0]])\n",
    "\n",
    "    # shape: height * width\n",
    "    # mesh_grid = np.meshgrid(x, y) #[height, width, 2]\n",
    "    # mesh_grid = np.reshape(mesh_grid, [2, -1])\n",
    "    length = grid.shape[1]\n",
    "    ones = np.ones([1, length])\n",
    "    uv_grid = np.concatenate((grid, ones), axis=0)  # [3, num_pixel]\n",
    "\n",
    "    xyz = intrinsics_inv @ uv_grid  # [3, num_pixsel]\n",
    "    xyz = np.transpose(xyz)  # [num_pixel, 3]\n",
    "\n",
    "    z = depth[idxs[0], idxs[1]]\n",
    "\n",
    "    # print(np.amax(z), np.amin(z))\n",
    "    pts = xyz * z[:, np.newaxis] / xyz[:, -1:]\n",
    "    if NOCS_convention:\n",
    "        pts[:, 1] = -pts[:, 1]\n",
    "        pts[:, 2] = -pts[:, 2]\n",
    "    return pts, idxs\n"
   ]
  },
  {
   "cell_type": "markdown",
   "metadata": {},
   "source": [
    "### load checkpoint and SDF"
   ]
  },
  {
   "cell_type": "code",
   "execution_count": 2,
   "metadata": {},
   "outputs": [
    {
     "name": "stdout",
     "output_type": "stream",
     "text": [
      "./exp/neus/cup_hz/checkpoints/ckpt_003000.pth\n",
      "loaded checkpoint from ./exp/neus/cup_hz/checkpoints/ckpt_003000.pth\n"
     ]
    }
   ],
   "source": [
    "obj_name = 'owl'\n",
    "ckpt_path = './exp/neus/'+ obj_name +'/checkpoints/ckpt_005000.pth'\n",
    "print(ckpt_path)\n",
    "config_path = './confs/optimizer.json' # into args\n",
    "configs = get_configs(config_path)\n",
    "\n",
    "sdf_network = load_checkpoint(ckpt_path)"
   ]
  },
  {
   "cell_type": "code",
   "execution_count": 35,
   "metadata": {},
   "outputs": [
    {
     "name": "stdout",
     "output_type": "stream",
     "text": [
      "(256, 256)\n",
      "0.9596455841064453\n"
     ]
    },
    {
     "data": {
      "text/plain": [
       "<matplotlib.image.AxesImage at 0x7fe8647e6790>"
      ]
     },
     "execution_count": 35,
     "metadata": {},
     "output_type": "execute_result"
    },
    {
     "data": {
      "image/png": "[encoded data removed]",
      "text/plain": [
       "<Figure size 640x480 with 1 Axes>"
      ]
     },
     "metadata": {},
     "output_type": "display_data"
    }
   ],
   "source": [
    "dataset_path = './data/pose_estimation/'\n",
    "frame_idx = 16\n",
    "# image file name\n",
    "rgb_image_path = os.path.join(dataset_path, 'rgbsyn_init_calib/{:06d}.png'.format(frame_idx))\n",
    "depth_image_path = os.path.join(dataset_path, 'depth_init_calib/{:06d}.png'.format(frame_idx))\n",
    "\n",
    "# read image\n",
    "rgba_image = cv2.imread(rgb_image_path, -1)\n",
    "rgb_image = rgba_image[..., :3][..., [2,1,0]]\n",
    "mask_image = rgba_image[..., 3]\n",
    "depth_img = cv2.imread(depth_image_path, -1) / 1000\n",
    "print(depth_img.shape)\n",
    "print(depth_img.mean())\n",
    "\n",
    "camera_config_path = os.path.join(dataset_path, 'camera_info.json')\n",
    "camera_config = get_configs(camera_config_path)\n",
    "\n",
    "camera_intrinsic = np.array(camera_config[str(frame_idx)][\"cam_intrinsic\"])\n",
    "\n",
    "R_co = np.array(camera_config[str(frame_idx)][\"cam_R_m2c\"])\n",
    "t_co = np.array(camera_config[str(frame_idx)][\"cam_t_m2c\"])\n",
    "T_co = np.eye(4)\n",
    "T_co[:3,:3] = R_co\n",
    "T_co[:3,3] = t_co\n",
    "\n",
    "# image to pointcloud \n",
    "# pts = rgbd_to_point_cloud(rgb_img,depth_img,camera_intrinsic)\n",
    "plt.imshow(rgb_image)"
   ]
  },
  {
   "cell_type": "markdown",
   "metadata": {},
   "source": [
    "## Test Mesh and Pointcloud\n",
    "transfer mesh from {object} to {camera}"
   ]
  },
  {
   "cell_type": "code",
   "execution_count": 33,
   "metadata": {},
   "outputs": [
    {
     "name": "stdout",
     "output_type": "stream",
     "text": [
      "(16768, 3)\n",
      "[[-0.39785447 -0.79303917  3.968     ]\n",
      " [-0.38778961 -0.79044101  3.955     ]\n",
      " [-0.37854902 -0.78944172  3.95      ]\n",
      " [-0.36961145 -0.789042    3.948     ]\n",
      " [-0.36095695 -0.78924186  3.949     ]\n",
      " [-0.35310073 -0.79124044  3.959     ]\n",
      " [-0.4151208  -0.78383071  3.965     ]\n",
      " [-0.40480002 -0.78086539  3.95      ]\n",
      " [-0.3951473  -0.77908621  3.941     ]\n",
      " [-0.3858286  -0.77790008  3.935     ]]\n",
      "torch.Size([4, 16768, 3]) torch.Size([4, 4, 4]) torch.Size([4, 3])\n",
      "[ 0.01010223  0.04076823 -0.05212489]\n",
      "pcd dimension:[-0.49143091 -0.72176211 -0.69059391], [0.48832831 0.65777602 0.70453846]\n",
      "mesh dimension:[-0.49126613 -0.7254535  -0.78762269], [0.50331885 0.67995405 0.70241767]\n"
     ]
    }
   ],
   "source": [
    "points, _ = backproject(depth_img, camera_intrinsic, depth_img>0, NOCS_convention=False)\n",
    "print(points.shape)\n",
    "print(points[:10,:])\n",
    "\n",
    "mesh_path = os.path.join(dataset_path, 'owl.ply')\n",
    "mesh = o3d.io.read_triangle_mesh(mesh_path)\n",
    "# o3d.visualization.draw_geometries([mesh])\n",
    "\n",
    "\n",
    "axis = o3d.geometry.TriangleMesh.create_coordinate_frame(1)\n",
    "\n",
    "T_oc = np.linalg.inv(T_co)\n",
    "points_in_obj = points @ T_oc[:3, :3].T + T_oc[:3, 3]\n",
    "\n",
    "### Batching\n",
    "points_pt = torch.from_numpy(points)[None].repeat(4, 1, 1).float()\n",
    "T_oc_pt = torch.from_numpy(T_oc)[None].repeat(4, 1, 1).float()\n",
    "print(points_pt.shape, T_oc_pt.shape, T_oc_pt[..., :3, 3].shape)\n",
    "points_in_obj_pt = torch.matmul(points_pt, T_oc_pt[..., :3, :3].transpose(-1, -2)) + T_oc_pt[..., :3, 3].unsqueeze(-2)\n",
    "\n",
    "\n",
    "pcd = visualize_points(points_in_obj)\n",
    "\n",
    "\n",
    "print(mesh.get_center())\n",
    "print(f'pcd dimension:{pcd.get_min_bound()}, {pcd.get_max_bound()}')\n",
    "print(f'mesh dimension:{mesh.get_min_bound()}, {mesh.get_max_bound()}')\n",
    "\n",
    "\n",
    "o3d.visualization.draw_geometries([mesh,pcd,axis])\n",
    "# o3d.visualization.draw_geometries([pcd])\n"
   ]
  },
  {
   "cell_type": "code",
   "execution_count": 52,
   "metadata": {},
   "outputs": [],
   "source": [
    "# optional method\n",
    "# depth_img = np.array(depth_img)/1000\n",
    "# points_scene, scene_idx = backproject(\n",
    "#                 depth_img,\n",
    "#                 camera_intrinsic,\n",
    "#                 depth_img < 10,\n",
    "#                 NOCS_convention=False,\n",
    "#             )\n",
    "\n",
    "# # colors_scene = color[scene_idx[0], scene_idx[1]]\n",
    "# pcd_scene = visualize_points(points_scene)\n",
    "\n",
    "# o3d.visualization.draw_geometries([pcd_scene])"
   ]
  },
  {
   "cell_type": "markdown",
   "metadata": {},
   "source": [
    "## Visualize Camera Views"
   ]
  },
  {
   "cell_type": "code",
   "execution_count": 41,
   "metadata": {},
   "outputs": [
    {
     "name": "stdout",
     "output_type": "stream",
     "text": [
      "['/home/stud/zanr/code/Wonder3D/instant-nsr-pl/datasets/fixed_poses/000_front_left_RT.txt', '/home/stud/zanr/code/Wonder3D/instant-nsr-pl/datasets/fixed_poses/000_front_RT.txt', '/home/stud/zanr/code/Wonder3D/instant-nsr-pl/datasets/fixed_poses/000_right_RT.txt', '/home/stud/zanr/code/Wonder3D/instant-nsr-pl/datasets/fixed_poses/000_top_RT.txt', '/home/stud/zanr/code/Wonder3D/instant-nsr-pl/datasets/fixed_poses/000_front_right_RT.txt', '/home/stud/zanr/code/Wonder3D/instant-nsr-pl/datasets/fixed_poses/000_back_RT.txt', '/home/stud/zanr/code/Wonder3D/instant-nsr-pl/datasets/fixed_poses/000_back_right_RT.txt', '/home/stud/zanr/code/Wonder3D/instant-nsr-pl/datasets/fixed_poses/000_left_RT.txt', '/home/stud/zanr/code/Wonder3D/instant-nsr-pl/datasets/fixed_poses/000_back_left_RT.txt']\n",
      "(4, 4)\n"
     ]
    }
   ],
   "source": [
    "# cam_pose_dir = \"./models/fixed_poses/\" # NeuS fixed poses   \n",
    "cam_pose_dir = \"/home/stud/zanr/code/Wonder3D/instant-nsr-pl/datasets/fixed_poses\" # instant-nsr-pl fixed poses\n",
    "\n",
    "\n",
    "# Get all file names in the directory\n",
    "file_names = os.listdir(cam_pose_dir)\n",
    "\n",
    "# Create a list to store the file paths\n",
    "file_paths = []\n",
    "\n",
    "# Iterate over the file names\n",
    "for file_name in file_names:\n",
    "    # Check if the file is a text file\n",
    "    if file_name.endswith(\".txt\"):\n",
    "        # Construct the file path by joining the directory path and file name\n",
    "        file_path = os.path.join(cam_pose_dir, file_name)\n",
    "        # Append the file path to the list\n",
    "        file_paths.append(file_path)\n",
    "\n",
    "# Print the resulting array\n",
    "print(file_paths)\n",
    "\n",
    "# Initialize an empty list to store the data\n",
    "poses = []\n",
    "# Read data from each file\n",
    "for file_path in file_paths:\n",
    "    pose = np.loadtxt(file_path).reshape(3, 4)\n",
    "    pose = np.vstack([pose,[0,0,0,1]])\n",
    "    poses.append(pose)\n",
    "\n",
    "# Print the resulting array\n",
    "print(poses[0].shape) # T_co"
   ]
  },
  {
   "cell_type": "code",
   "execution_count": 43,
   "metadata": {},
   "outputs": [],
   "source": [
    "dataset_path = './data/pose_estimation/'\n",
    "# mesh_path = os.path.join(dataset_path, 'owl.ply')\n",
    "# mesh_path = os.path.join('./exp/neus/bowl1/meshes/bowl1_5377.glb')\n",
    "# mesh_path = os.path.join('/home/stud/zanr/code/Wonder3D/NeuS/exp/neus/owl/meshes/tmp.glb') # \n",
    "# mesh_path = os.path.join('/home/stud/zanr/code/Wonder3D/instant-nsr-pl/exp/owl/@20240807-143122/save/it3000-mc192.obj') # owl instant trained with instant fixed pose\n",
    "\n",
    "# mesh_path = os.path.join('/home/stud/zanr/code/Wonder3D/NeuS/exp/neus/owl/meshes/tmp.glb')  # owl NeuS trained with instant fixed pose\n",
    "# mesh_path = os.path.join('/home/stud/zanr/code/Wonder3D/NeuS/exp/neus/owl_backup.glb') # owl NeuS trained with NeuS fixed pose\n",
    "mesh_path = '/home/stud/zanr/code/tmp/Wonder3D/NeuS/exp/neus/cup_hz/meshes/cup_hz_3000.glb'\n",
    "mesh_path = '/home/stud/zanr/code/tmp/Wonder3D/NeuS/exp/neus/object_rgba_0/meshes/object_rgba_0_3000.glb'\n",
    "\n",
    "\n",
    "\n",
    "mesh = o3d.io.read_triangle_mesh(mesh_path)\n",
    "\n",
    "def draw_cameras(poses, mesh):\n",
    "    line_sets = []\n",
    "    for pose in poses:\n",
    "        \n",
    "        T_oc = np.linalg.inv(pose)  \n",
    "        # Create camera frustum\n",
    "        width = -0.1\n",
    "        height = -0.1\n",
    "        depth = -0.1\n",
    "        camera_points = mesh.get_center() + np.array([[0, 0, 0], [width, height, depth], [width, -height, depth], [-width, -height, depth], [-width, height, depth]]) # 5 points for frustum\n",
    "        camera_points = camera_points @ T_oc[:3, :3].T + T_oc[:3, 3]\n",
    "\n",
    "        # Create camera frustum mesh\n",
    "        lines = [[0, 1], [0, 2], [0, 3], [0, 4], [1, 2], [2, 3], [3, 4], [4, 1]]\n",
    "        colors = [[1, 0, 0] for _ in range(len(lines))]\n",
    "        line_set = o3d.geometry.LineSet()\n",
    "        line_set.points = o3d.utility.Vector3dVector(camera_points)\n",
    "        line_set.lines = o3d.utility.Vector2iVector(lines)\n",
    "        line_set.colors = o3d.utility.Vector3dVector(colors)\n",
    "        line_sets.append(line_set)\n",
    "\n",
    "    axis = o3d.geometry.TriangleMesh.create_coordinate_frame(1) # world frame \n",
    "    # mesh.coordinate_frame\n",
    "\n",
    "    # Visualize the rotated mesh and the coordinate frame\n",
    "    # o3d.visualization.draw_geometries([mesh, coordinate_frame])\n",
    "    o3d.visualization.draw_geometries([mesh, axis] + line_sets)\n",
    "\n",
    "# Example cam_K\n",
    "draw_cameras(poses, mesh)"
   ]
  },
  {
   "cell_type": "code",
   "execution_count": 34,
   "metadata": {},
   "outputs": [
    {
     "name": "stdout",
     "output_type": "stream",
     "text": [
      "torch.Size([256, 256]) torch.Size([256, 256])\n",
      "torch.Size([65536]) torch.Size([65536])\n"
     ]
    }
   ],
   "source": [
    "# create a 2d pixel grid \n",
    "W = 256\n",
    "H = 256\n",
    "tx = torch.linspace(0, W - 1, W)\n",
    "ty = torch.linspace(0, H - 1, H)\n",
    "pixels_x, pixels_y = torch.meshgrid(tx, ty)\n",
    "print(pixels_x.shape, pixels_y.shape) # 255x255\n",
    "\n",
    "pixels_x = pixels_x.reshape(-1).long()\n",
    "pixels_y = pixels_y.reshape(-1).long()\n",
    "\n",
    "print(pixels_x.shape, pixels_y.shape)\n",
    "# color = self.images[img_idx][(pixels_y, pixels_x)]    # batch_size, 3 -> 4 \n",
    "# mask = self.masks[img_idx][(pixels_y, pixels_x)]      # batch_size, 3\n",
    "# features = self.features[img_idx][((pixels_y, pixels_x))].to('cpu') # batch_size 1\n",
    "# normal = self.normals_world[img_idx][(pixels_y, pixels_x)]      # batch_size, 3\n",
    "\n",
    "# # q the center of the image plane\n",
    "# q = torch.stack([(pixels_x / self.W-0.5)*2, (pixels_y / self.H-0.5)*2, torch.zeros_like(pixels_y)], dim=-1).float()  # batch_size, 3\n",
    "# v = torch.stack([torch.zeros_like(pixels_y), torch.zeros_like(pixels_y), torch.ones_like(pixels_y)], dim=-1).float() # 001 z-axis\n",
    "        "
   ]
  },
  {
   "cell_type": "markdown",
   "metadata": {},
   "source": [
    "## Test SDF: \n",
    "here the pointcloud in {camera} should be transferred into {object} frame "
   ]
  },
  {
   "cell_type": "code",
   "execution_count": 49,
   "metadata": {},
   "outputs": [
    {
     "name": "stdout",
     "output_type": "stream",
     "text": [
      "tensor(-0.0030, device='cuda:0', grad_fn=<MeanBackward0>)\n",
      "tensor([[4.4007],\n",
      "        [2.3782],\n",
      "        [2.1689],\n",
      "        ...,\n",
      "        [2.4318],\n",
      "        [2.3410],\n",
      "        [3.6274]], device='cuda:0', grad_fn=<SliceBackward0>)\n",
      "tensor(-0.0030, device='cuda:0', grad_fn=<MeanBackward0>)\n"
     ]
    }
   ],
   "source": [
    "n = 10\n",
    "ones = np.ones((n, 1))\n",
    "\n",
    "def random_select(n,pts):\n",
    "    random_idx = np.random.randint(0,pts.shape[0],size=(n,))\n",
    "    return pts[random_idx]\n",
    "\n",
    "points_random = points_in_obj.copy() + np.random.rand(len(points_in_obj), 3) * 10\n",
    "\n",
    "sdf_on_surf = sdf_network.sdf(torch.tensor(points_in_obj).to(device).to(torch.float))\n",
    "sdf_on_free = sdf_network.sdf(torch.tensor(points_random).to(device).to(torch.float))\n",
    "sdf_on_surf_batch = sdf_network.sdf(points_in_obj_pt.view(-1, 3).to(device)).to(torch.float)\n",
    "print(sdf_on_surf.mean())\n",
    "print(sdf_on_free)\n",
    "print(sdf_on_surf_batch.mean())"
   ]
  },
  {
   "cell_type": "markdown",
   "metadata": {},
   "source": [
    "# Test with Cup_HZ"
   ]
  },
  {
   "cell_type": "code",
   "execution_count": 6,
   "metadata": {},
   "outputs": [
    {
     "name": "stdout",
     "output_type": "stream",
     "text": [
      "./exp/neus/cup_hz/checkpoints/ckpt_003000.pth\n",
      "loaded checkpoint from ./exp/neus/cup_hz/checkpoints/ckpt_003000.pth\n"
     ]
    }
   ],
   "source": [
    "obj_name = 'cup_hz'\n",
    "ckpt_path = './exp/neus/'+ obj_name +'/checkpoints/ckpt_003000.pth'\n",
    "print(ckpt_path)\n",
    "config_path = './confs/optimizer.json' # into args\n",
    "configs = get_configs(config_path)\n",
    "\n",
    "sdf_network = load_checkpoint(ckpt_path)\n",
    "# mesh_path = '/home/stud/zanr/code/tmp/Wonder3D/customized_data/2023-12-05-17-44-48/object_pose/object.obj'\n",
    "mesh_path = f'/home/stud/zanr/code/tmp/Wonder3D/NeuS/exp/neus/{obj_name}/meshes/{obj_name}_3000.glb'\n",
    "\n",
    "mesh = o3d.io.read_triangle_mesh(mesh_path)\n",
    "axis = o3d.geometry.TriangleMesh.create_coordinate_frame(1)"
   ]
  },
  {
   "cell_type": "code",
   "execution_count": 7,
   "metadata": {},
   "outputs": [
    {
     "name": "stdout",
     "output_type": "stream",
     "text": [
      "../customized_data/2023-12-05-17-44-48/object_pose/0_mask.png\n",
      "(720, 1280)\n",
      "0.5258612109375003\n",
      "[[ 0.89244957 -0.43418912  0.12252989 -0.04646901]\n",
      " [-0.15872401 -0.5564143  -0.81560395 -0.10518103]\n",
      " [ 0.42230374  0.70843697 -0.56548794  0.41895449]\n",
      " [ 0.          0.          0.          1.        ]]\n"
     ]
    }
   ],
   "source": [
    "dataset_path = '../customized_data/cup_hz/'\n",
    "rgb_image_path = os.path.join(dataset_path, 'object_rgba.png')\n",
    "# depth_image_path = os.path.join(dataset_path, 'object_depth.png')\n",
    "mask_image_path = os.path.join(dataset_path, 'object_pose/0_mask.png')\n",
    "print(mask_image_path)\n",
    "depth_image_path = os.path.join(dataset_path, 'depth/000001.png')\n",
    "# depth_image_path = '/home/stud/zanr/code/tmp/Wonder3D/customized_data/2023-12-05-17-44-48/object_depth_test.png'\n",
    "# read image\n",
    "rgba_image = cv2.imread(rgb_image_path, -1)\n",
    "rgb_image = rgba_image[..., :3][...,[2,1,0]]\n",
    "mask_image = cv2.imread(mask_image_path, -1)\n",
    "print(mask_image.shape)\n",
    "\n",
    "depth_img = cv2.imread(depth_image_path, -1)/1000 \n",
    "print(depth_img.mean())\n",
    "\n",
    "camera_intrinsic = np.array(\n",
    "        [\n",
    "            [608.7960205078125, 0, 632.1019287109375],\n",
    "            [0, 608.9515380859375, 365.985595703125],\n",
    "            [0, 0, 1],\n",
    "        ]\n",
    "    )\n",
    "T_co_gt = np.loadtxt(os.path.join(dataset_path, 'object_pose/0_Rt_cam_obj.txt')).reshape(4, 4)\n",
    "rot_x90 = np.array([[1, 0, 0, 0], [0, 0, -1, 0], [0, 1, 0, 0], [0, 0, 0, 1]])\n",
    "T_co_gt = T_co_gt @ rot_x90.T\n",
    "print(T_co_gt)\n",
    "# plt.imshow(depth_img)\n",
    "\n"
   ]
  },
  {
   "cell_type": "code",
   "execution_count": 35,
   "metadata": {},
   "outputs": [
    {
     "name": "stdout",
     "output_type": "stream",
     "text": [
      "gt translation [-0.15214956 -0.37550342  0.1568215 ]\n",
      "[-0.05093064 -0.10496864  0.39330116]\n",
      "[-0.09941595 -0.16723504  0.355     ] [ 0.00908888 -0.0480332   0.451     ]\n",
      "pcd dimensions after scale \n",
      "[-0.76395955 -1.5745296   5.8995174 ]\n",
      "[-1.49123921 -2.50852564  5.325     ] [ 0.13633317 -0.72049804  6.765     ]\n"
     ]
    },
    {
     "data": {
      "text/plain": [
       "PointCloud with 21208 points."
      ]
     },
     "execution_count": 35,
     "metadata": {},
     "output_type": "execute_result"
    }
   ],
   "source": [
    "points, _ = backproject(depth_img, camera_intrinsic,mask_image, NOCS_convention=False)\n",
    "\n",
    "\n",
    "\n",
    "T_oc = np.linalg.inv(T_co_gt)\n",
    "# T_co_optimized = \n",
    "# T_oc_optimized = np.linalg.inv(T_co_optimized)\n",
    "\n",
    "print(f'gt translation {T_oc[:3,3]}')\n",
    "pcd_in_cam = visualize_points(points)\n",
    "print(pcd_in_cam.get_center())\n",
    "print(pcd_in_cam.get_min_bound(), pcd_in_cam.get_max_bound())\n",
    "\n",
    "# print('pcd dimensions after scale ')\n",
    "# points_scaled = points * 15.0\n",
    "# pcd_in_cam_scaled = visualize_points(points_scaled)\n",
    "# print(pcd_in_cam_scaled.get_center())\n",
    "# print(pcd_in_cam_scaled.get_min_bound(), pcd_in_cam_scaled.get_max_bound())\n",
    "\n",
    "# points is \"true\" from observation\n",
    "points_in_obj = points @ T_oc[:3, :3].T + T_oc[:3, 3]\n",
    "points_in_obj_scaled = points_in_obj * 15\n",
    "\n",
    "# points_in_obj_optimized = points @ T_oc_optimized[:3, :3].T + T_oc_optimized[:3, 3]\n",
    "# points_in_obj_optimized_scaled = points_in_obj_optimized * 15\n",
    "\n",
    "\n",
    "\n",
    "pcd = visualize_points(points_in_obj_scaled)\n",
    "# pcd_optimized = visualize_points(points_in_obj_optimized_scaled)\n",
    "pcd.paint_uniform_color([0,1,0])\n",
    "# pcd_optimized.paint_uniform_color([0,0,1])\n",
    "# o3d.visualization.draw_geometries([mesh,pcd,axis])\n",
    "# o3d.visualization.draw_geometries([mesh,pcd,pcd_optimized])\n",
    "# o3d.visualization.draw_geometries([mesh,pcd])\n"
   ]
  },
  {
   "cell_type": "markdown",
   "metadata": {},
   "source": [
    "# Test with New Dataset"
   ]
  },
  {
   "cell_type": "code",
   "execution_count": 2,
   "metadata": {},
   "outputs": [],
   "source": [
    "def load_ar_dataset(dataset_fpath, scene_name, object_name):\n",
    "    ckpt_path = './exp/neus/'+ object_name +'/checkpoints/ckpt_003000.pth'\n",
    "    sdf_network = load_checkpoint(ckpt_path)\n",
    "\n",
    "    mesh_path = f'/home/stud/zanr/code/tmp/Wonder3D/NeuS/exp/neus/{object_name}/meshes/{object_name}_3000.glb'\n",
    "    mesh = o3d.io.read_triangle_mesh(mesh_path)\n",
    "\n",
    "    dataset_path = dataset_fpath + scene_name + '/'\n",
    "    print(f'load dataset from {dataset_path}')\n",
    "    \n",
    "    rgb_image_path = os.path.join(dataset_path, 'object_rgba_0.png')\n",
    "    # depth_image_path = os.path.join(dataset_path, 'object_depth.png')\n",
    "    mask_id = object_name[-1]\n",
    "    mask_image_path = os.path.join(dataset_path, f'masks/mask_{mask_id}.png')\n",
    "    depth_image_path = os.path.join(dataset_path, 'depth/00000.png')\n",
    "    background_mask_path = os.path.join(dataset_path, 'desk_mask.png')\n",
    "\n",
    "    # read image\n",
    "    rgba_image = cv2.imread(rgb_image_path, -1)\n",
    "    rgb_image = rgba_image[..., :3][...,[2,1,0]]\n",
    "    mask_image = cv2.imread(mask_image_path, -1)\n",
    "    desk_mask = cv2.imread(background_mask_path, -1)\n",
    "\n",
    "    depth_img = cv2.imread(depth_image_path, -1)/1000 \n",
    "    print(depth_img.mean())\n",
    "\n",
    "    camera_intrinsic = np.array(\n",
    "            [\n",
    "                [608.7960205078125, 0, 632.1019287109375],\n",
    "                [0, 608.9515380859375, 365.985595703125],\n",
    "                [0, 0, 1],\n",
    "            ]\n",
    "        )\n",
    "    points, _ = backproject(depth_img, camera_intrinsic,mask_image, NOCS_convention=False)\n",
    "    idx = np.random.choice(points.shape[0], 1000,replace=False)\n",
    "    points = points[idx]\n",
    "\n",
    "    return sdf_network, mesh, points"
   ]
  },
  {
   "cell_type": "code",
   "execution_count": 3,
   "metadata": {},
   "outputs": [
    {
     "name": "stdout",
     "output_type": "stream",
     "text": [
      "loaded checkpoint from ./exp/neus/object_rgba_3/checkpoints/ckpt_003000.pth\n",
      "load dataset from ../customized_data/table_top/\n",
      "0.4952291124131944\n",
      "loaded checkpoint from ./exp/neus/object_rgba_8/checkpoints/ckpt_003000.pth\n",
      "load dataset from ../customized_data/table_top/\n",
      "0.4952291124131944\n",
      "loaded checkpoint from ./exp/neus/object_rgba_9/checkpoints/ckpt_003000.pth\n",
      "load dataset from ../customized_data/table_top/\n",
      "0.4952291124131944\n"
     ]
    }
   ],
   "source": [
    "_, mesh_obj1, points_1 = load_ar_dataset('../customized_data/', 'table_top', 'object_rgba_3')\n",
    "_, mesh_obj2, points_2 = load_ar_dataset('../customized_data/', 'table_top', 'object_rgba_8')\n",
    "_, mesh_obj3, points_3 = load_ar_dataset('../customized_data/', 'table_top', 'object_rgba_9')\n",
    "\n",
    "\n",
    "o3d.visualization.draw_geometries([mesh_obj1, mesh_obj2, mesh_obj3])"
   ]
  },
  {
   "cell_type": "markdown",
   "metadata": {},
   "source": [
    "## Init with Rotation guess"
   ]
  },
  {
   "cell_type": "code",
   "execution_count": 34,
   "metadata": {},
   "outputs": [
    {
     "data": {
      "text/plain": [
       "PointCloud with 1000 points."
      ]
     },
     "execution_count": 34,
     "metadata": {},
     "output_type": "execute_result"
    }
   ],
   "source": [
    "\n",
    "\n",
    "T_co = np.eye(4)\n",
    "T_co[:3,3] = points.mean(axis=0)\n",
    "rot_x90 = np.array([[1, 0, 0, 0], [0, 0, -1, 0], [0, 1, 0, 0], [0, 0, 0, 1]])\n",
    "T_co[:3,:3] = rot_x90[:3,:3]\n",
    "\n",
    "T_oc = np.linalg.inv(T_co)\n",
    "points_in_obj = points @ T_oc[:3, :3].T + T_oc[:3, 3]\n",
    "points_in_obj_scaled = points_in_obj * 10\n",
    "pcd_in_obj = visualize_points(points_in_obj_scaled)\n",
    "pcd_in_obj_rm, _ = pcd_in_obj.remove_radius_outlier(10,0.2)\n",
    "pcd_in_obj_rm, _ = pcd_in_obj_rm.remove_statistical_outlier(nb_neighbors=100,std_ratio=2.0)\n",
    "o3d.visualization.draw_geometries([pcd_in_obj_rm,mesh,axis])\n",
    "# o3d.visualization.draw_geometries([pcd_in_obj_rm])\n",
    "# Visualize the PointCloud\n",
    "\n",
    "axis = o3d.geometry.TriangleMesh.create_coordinate_frame(1)\n",
    "\n",
    "# T_oc = np.linalg.inv(T_co_gt)\n",
    "# T_co_optimized = \n",
    "# T_oc_optimized = np.linalg.inv(T_co_optimized)\n",
    "\n",
    "# print(f'gt translation {T_oc[:3,3]}')\n",
    "# pcd_in_cam = visualize_points(points)\n",
    "# print(pcd_in_cam.get_center())\n",
    "# print(pcd_in_cam.get_min_bound(), pcd_in_cam.get_max_bound())\n",
    "\n",
    "# print('pcd dimensions after scale ')\n",
    "# points_scaled = points * 15.0\n",
    "# pcd_in_cam_scaled = visualize_points(points_scaled)\n",
    "# print(pcd_in_cam_scaled.get_center())\n",
    "# print(pcd_in_cam_scaled.get_min_bound(), pcd_in_cam_scaled.get_max_bound())\n",
    "\n",
    "# points is \"true\" from observation\n",
    "# points_in_obj = points @ T_oc[:3, :3].T + T_oc[:3, 3]\n",
    "# points_in_obj_scaled = points_in_obj * 15\n",
    "\n",
    "# points_in_obj_optimized = points @ T_oc_optimized[:3, :3].T + T_oc_optimized[:3, 3]\n",
    "# points_in_obj_optimized_scaled = points_in_obj_optimized * 15\n",
    "\n",
    "\n",
    "\n",
    "pcd = visualize_points(points) # pcd in camera frame\n",
    "# pcd_optimized = visualize_points(points_in_obj_optimized_scaled)\n",
    "pcd.paint_uniform_color([0,1,0])\n",
    "# o3d.visualization.draw_geometries([mesh,pcd,axis])\n",
    "# o3d.visualization.draw_geometries([mesh,pcd,pcd_optimized])\n",
    "# o3d.visualization.draw_geometries([mesh,pcd])\n",
    "# o3d.visualization.draw_geometries([pcd_in_obj, mesh])\n"
   ]
  },
  {
   "cell_type": "markdown",
   "metadata": {},
   "source": [
    "## Visualization of Scene"
   ]
  },
  {
   "cell_type": "code",
   "execution_count": 4,
   "metadata": {},
   "outputs": [],
   "source": [
    "import json\n",
    "\n",
    "def read_json(json_file):\n",
    "    with open(json_file, \"r\") as file:\n",
    "        data = json.load(file)\n",
    "    return data\n",
    "\n",
    "\n",
    "result_8 = \"optimization_results_object_rgba_8.json\"\n",
    "result_9 = \"optimization_results_object_rgba_9.json\"\n",
    "result_3 = \"optimization_results_object_rgba_3.json\"\n",
    "\n",
    "data_1 = read_json(result_8)\n",
    "data_2 = read_json(result_9)\n",
    "data_3 = read_json(result_3)\n",
    "\n",
    "\n",
    "T_oc_1 = np.array(data_1['T_oc_optimized'])\n",
    "T_oc_2 = np.array(data_2['T_oc_optimized'])\n",
    "T_oc_3 = np.array(data_3['T_oc_optimized'])\n",
    "scale_1 = data_1['scale']\n",
    "scale_2 = data_2['scale']   \n",
    "scale_3 = data_3['scale']\n",
    "\n",
    "\n",
    "T_co_1 = np.linalg.inv(T_oc_1)\n",
    "T_co_2 = np.linalg.inv(T_oc_2)\n",
    "T_co_3 = np.linalg.inv(T_oc_3)\n",
    "\n",
    "# world = camera frame\n",
    "T_wc = np.array([[1, 0, 0, 0],\n",
    "                [0, 1, 0, 0],\n",
    "                [0, 0, 1, 0],\n",
    "                [0, 0, 0, 1]])\n",
    "\n",
    "T_wo_1 = T_co_1  \n",
    "T_wo_2 = T_co_2\n",
    "T_wo_3 = T_co_3\n"
   ]
  },
  {
   "cell_type": "code",
   "execution_count": 9,
   "metadata": {},
   "outputs": [
    {
     "name": "stdout",
     "output_type": "stream",
     "text": [
      "loaded checkpoint from ./exp/neus/object_rgba_3/checkpoints/ckpt_003000.pth\n",
      "load dataset from ../customized_data/table_top/\n",
      "0.4952291124131944\n",
      "loaded checkpoint from ./exp/neus/object_rgba_8/checkpoints/ckpt_003000.pth\n",
      "load dataset from ../customized_data/table_top/\n",
      "0.4952291124131944\n",
      "loaded checkpoint from ./exp/neus/object_rgba_9/checkpoints/ckpt_003000.pth\n",
      "load dataset from ../customized_data/table_top/\n",
      "0.4952291124131944\n"
     ]
    }
   ],
   "source": [
    "_, mesh_obj1, points_1 = load_ar_dataset('../customized_data/', 'table_top', 'object_rgba_3')\n",
    "_, mesh_obj2, points_2 = load_ar_dataset('../customized_data/', 'table_top', 'object_rgba_8')\n",
    "_, mesh_obj3, points_3 = load_ar_dataset('../customized_data/', 'table_top', 'object_rgba_9')\n",
    "\n",
    "axis = o3d.geometry.TriangleMesh.create_coordinate_frame(size=1.0,origin=[0,0,0])\n",
    "\n",
    "pcd_obj_1 = visualize_points(points_1)\n",
    "pcd_obj_2 = visualize_points(points_2)\n",
    "pcd_obj_3 = visualize_points(points_3)\n",
    "\n",
    "mesh_obj1 = mesh_obj1.scale(1/scale_1, center=mesh_obj1.get_center())\n",
    "mesh_obj2 = mesh_obj2.scale(1/scale_2, center=mesh_obj2.get_center())\n",
    "mesh_obj3 = mesh_obj3.scale(1/scale_3, center=mesh_obj3.get_center())\n",
    "\n",
    "mesh_obj1.transform(T_wo_1) # inplace change\n",
    "mesh_obj2.transform(T_wo_2)\n",
    "mesh_obj3.transform(T_wo_3) \n",
    "\n",
    "\n",
    "# o3d.visualization.draw_geometries([mesh1, axis1])\n",
    "o3d.visualization.draw_geometries([mesh_obj1, mesh_obj2, mesh_obj3, pcd_obj_1, pcd_obj_2, pcd_obj_3, axis])\n",
    "# o3d.visualization.draw_geometries([pcd_obj_1, pcd_obj_2, pcd_obj_3, axis])\n",
    "\n",
    "\n",
    "del mesh_obj1, mesh_obj2, mesh_obj3\n"
   ]
  },
  {
   "cell_type": "markdown",
   "metadata": {},
   "source": [
    "## Try init with desk normal vector"
   ]
  },
  {
   "cell_type": "code",
   "execution_count": null,
   "metadata": {},
   "outputs": [],
   "source": [
    "\n",
    "points, _ = backproject(depth_img, camera_intrinsic,mask_image, NOCS_convention=False)\n",
    "points_desk,_ = backproject(depth_img, camera_intrinsic,desk_mask, NOCS_convention=False)\n",
    "\n",
    "desk_pcd = visualize_points(points_desk)\n",
    "desk_pcd_removed,_ = desk_pcd.remove_statistical_outlier(nb_neighbors=100,std_ratio=2.0)\n",
    "desk_pcd_removed.estimate_normals(search_param=o3d.geometry.KDTreeSearchParamHybrid(radius=0.2, max_nn=30))\n",
    "\n",
    "desk_normal_avg = np.asarray(desk_pcd_removed.normals).mean(axis=0)\n",
    "desk_normal_avg /= np.linalg.norm(desk_normal_avg)\n",
    "normal_pt = desk_normal_avg.reshape(1,3)\n",
    "line_points = np.array([[0, 0, 0], desk_normal_avg])\n",
    "line_colors = [[1, 0, 0], [0, 1, 0]]  # Red and Green colors for the line endpoints\n",
    "\n",
    "line_set = o3d.geometry.LineSet()\n",
    "line_set.points = o3d.utility.Vector3dVector(line_points)\n",
    "line_set.lines = o3d.utility.Vector2iVector([[0, 1]])\n",
    "line_set.colors = o3d.utility.Vector3dVector(line_colors)\n",
    "\n",
    "pcd_normal = o3d.geometry.PointCloud()\n",
    "# Add the vector as a single point to the PointCloud\n",
    "pcd_normal.points = o3d.utility.Vector3dVector(normal_pt)\n",
    "\n",
    "# o3d.visualization.draw_geometries([axis, desk_pcd, pcd_normal,mesh, line_set])\n",
    "o3d.visualization.draw_geometries([desk_pcd_removed, line_set])\n"
   ]
  },
  {
   "cell_type": "code",
   "execution_count": null,
   "metadata": {},
   "outputs": [],
   "source": [
    "pcd = visualize_points(points)\n",
    "desk_pcd_removed,_ = pcd.remove_statistical_outlier(nb_neighbors=100,std_ratio=2.0)\n",
    "\n",
    "desk_pcd_removed.paint_uniform_color([0,1,0])\n",
    "pcd.paint_uniform_color([1,0,0])\n",
    "o3d.visualization.draw_geometries([desk_pcd_removed])"
   ]
  }
 ],
 "metadata": {
  "kernelspec": {
   "display_name": "Python 3 (ipykernel)",
   "language": "python",
   "name": "python3"
  },
  "language_info": {
   "codemirror_mode": {
    "name": "ipython",
    "version": 3
   },
   "file_extension": ".py",
   "mimetype": "text/x-python",
   "name": "python",
   "nbconvert_exporter": "python",
   "pygments_lexer": "ipython3",
   "version": "3.8.19"
  }
 },
 "nbformat": 4,
 "nbformat_minor": 4
}
